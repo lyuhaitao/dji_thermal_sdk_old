{
 "cells": [
  {
   "cell_type": "code",
   "execution_count": null,
   "metadata": {},
   "outputs": [],
   "source": [
    "%load_ext autoreload\n",
    "%autoreload 2"
   ]
  },
  {
   "cell_type": "code",
   "execution_count": null,
   "metadata": {},
   "outputs": [],
   "source": [
    "#hide\n",
    "import nbdev"
   ]
  },
  {
   "cell_type": "code",
   "execution_count": null,
   "metadata": {},
   "outputs": [],
   "source": [
    "from dji_thermal_sdk.dji_sdk import *\n",
    "import dji_thermal_sdk.utility as utility\n",
    "import ctypes as CT\n",
    "from ctypes import *"
   ]
  },
  {
   "cell_type": "code",
   "execution_count": null,
   "metadata": {},
   "outputs": [],
   "source": [
    "try:\n",
    "    _libdirp = cdll.libdirp\n",
    "except FileNotFoundError as err:\n",
    "    print(\"Please copy libdirp.dll, lib_dirp.dll, lib_girp.dll, lib_iirp.dll, and lib_list.ini. to your folder.\")"
   ]
  },
  {
   "cell_type": "markdown",
   "metadata": {},
   "source": [
    "# DJI Thermal SDK\n",
    "\n",
    "> use ctypes to capsulate the DJI Thermal SDK so that we can directly use python to process thermal images. "
   ]
  },
  {
   "cell_type": "markdown",
   "metadata": {},
   "source": [
    "This version of DJI Thermal SDK is 1.3, which was published on 05/15/2022"
   ]
  },
  {
   "cell_type": "markdown",
   "metadata": {},
   "source": [
    "## Install"
   ]
  },
  {
   "cell_type": "markdown",
   "metadata": {},
   "source": [
    "`pip install dji_thermal_sdk`"
   ]
  },
  {
   "cell_type": "markdown",
   "metadata": {},
   "source": [
    "## How to use"
   ]
  },
  {
   "cell_type": "markdown",
   "metadata": {},
   "source": [
    "Get the handle of a R-JPEG image.  \n",
    "- A handle is a void pointer, which has been defined to be `DIRP_HANDLE`.\n",
    "- invoke the function `dirp_create_from_rjpeg`"
   ]
  },
  {
   "cell_type": "code",
   "execution_count": null,
   "metadata": {},
   "outputs": [],
   "source": [
    "import os\n",
    "import matplotlib.pyplot as plt"
   ]
  },
  {
   "cell_type": "code",
   "execution_count": null,
   "metadata": {},
   "outputs": [
    {
     "name": "stdout",
     "output_type": "stream",
     "text": [
      "File Name\tFile Path\n",
      "Deer_Goats_Unsure__2022-02-02__02-42-12(2).JPG\tdataset\\Deer_Goats_Unsure__2022-02-02__02-42-12(2).JPG\n"
     ]
    }
   ],
   "source": [
    "# get all jpg images in a directory\n",
    "root_directory = r'dataset'\n",
    "ret = utility.FindFilesByExtension(root_directory, \"JPG\")\n",
    "print(\"File Name\\tFile Path\")\n",
    "for f in ret:\n",
    "    print(f\"{f.file_name}\\t{f.file_path}\")\n",
    "#"
   ]
  },
  {
   "cell_type": "code",
   "execution_count": null,
   "metadata": {},
   "outputs": [
    {
     "name": "stdout",
     "output_type": "stream",
     "text": [
      "File size: c_long(1367428)\n",
      "ret = 0\n",
      "successfully get the r-jpeg handle.\n",
      "DIRP_HANDLE: c_void_p(2185786076432)  address: 0x1fceb00ad10 \n"
     ]
    }
   ],
   "source": [
    "rd = ret[0].file_path\n",
    "with open(rd, 'rb') as f:\n",
    "    content = f.read()\n",
    "# method 1 to get the file size\n",
    "file_stat = os.stat(rd)\n",
    "size = c_int32(file_stat.st_size)\n",
    "print(f\"File size: {size}\")\n",
    "\n",
    "# the method to create a string buffer, which is important.\n",
    "rjpeg_data = CT.create_string_buffer(len(content))\n",
    "rjpeg_data.value = content\n",
    "# test the function to create a handle of an image\n",
    "ret = dirp_create_from_rjpeg(rjpeg_data,size, CT.byref(DIRP_HANDLE))\n",
    "print(f'ret = {ret}')\n",
    "if ret == 0:\n",
    "    print(\"successfully get the r-jpeg handle.\")\n",
    "#\n",
    "print(f\"DIRP_HANDLE: {DIRP_HANDLE}  address: {hex(DIRP_HANDLE.value)} \")"
   ]
  },
  {
   "cell_type": "markdown",
   "metadata": {},
   "source": [
    "Get the resolution of a R-jpge image  \n",
    "- declare `dirp_resolution_t` variable and create a instance.  \n",
    "- invoke the function `dirp_get_rjpeg_resolution`"
   ]
  },
  {
   "cell_type": "code",
   "execution_count": null,
   "metadata": {},
   "outputs": [
    {
     "name": "stdout",
     "output_type": "stream",
     "text": [
      "ret = 0\n",
      "successfully get the resolution.\n"
     ]
    },
    {
     "data": {
      "text/plain": [
       "'Height: 512, width: 640'"
      ]
     },
     "execution_count": null,
     "metadata": {},
     "output_type": "execute_result"
    }
   ],
   "source": [
    "rjpeg_resolution = dirp_resolution_t()\n",
    "ret = dirp_get_rjpeg_resolution(DIRP_HANDLE, CT.byref(rjpeg_resolution))\n",
    "print(f'ret = {ret}')\n",
    "if ret == 0:\n",
    "    print(\"successfully get the resolution.\")\n",
    "out = f'Height: {rjpeg_resolution.height}, width: {rjpeg_resolution.width}'\n",
    "out"
   ]
  },
  {
   "cell_type": "code",
   "execution_count": null,
   "metadata": {},
   "outputs": [
    {
     "data": {
      "text/markdown": [
       "<h4 id=\"dirp_get_rjpeg_resolution\" class=\"doc_header\"><code>dirp_get_rjpeg_resolution</code><a href=\"https://github.com/haitaolyu/dji_thermal_sdk/tree/master/dji_thermal_sdk/dji_sdk.py#L330\" class=\"source_link\" style=\"float:right\">[source]</a></h4>\n",
       "\n",
       "> <code>dirp_get_rjpeg_resolution</code>(**`h`**, **`rjpeg_info`**)\n",
       "\n",
       "Get R-JPEG image resolution information.\n",
       "Parameters\n",
       "    [in]h: DIRP API handle\n",
       "    [out]rjpeg_info: R-JPEG basic information pointer\n",
       "Returns\n",
       "    int return code dirp_ret_code_e"
      ],
      "text/plain": [
       "<IPython.core.display.Markdown object>"
      ]
     },
     "metadata": {},
     "output_type": "display_data"
    }
   ],
   "source": [
    "nbdev.showdoc.show_doc(dirp_get_rjpeg_resolution)"
   ]
  }
 ],
 "metadata": {
  "kernelspec": {
   "display_name": "Python 3 (ipykernel)",
   "language": "python",
   "name": "python3"
  }
 },
 "nbformat": 4,
 "nbformat_minor": 2
}
