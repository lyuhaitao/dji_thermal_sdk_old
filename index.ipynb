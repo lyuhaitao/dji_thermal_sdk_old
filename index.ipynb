{
 "cells": [
  {
   "cell_type": "code",
   "execution_count": null,
   "metadata": {},
   "outputs": [],
   "source": [
    "#hide\n",
    "%load_ext autoreload\n",
    "%autoreload 2"
   ]
  },
  {
   "cell_type": "code",
   "execution_count": null,
   "metadata": {},
   "outputs": [],
   "source": [
    "import nbdev\n",
    "from dji_thermal_sdk.dji_sdk import *\n",
    "import dji_thermal_sdk.dji_sdk as DJI\n",
    "import ctypes as CT\n",
    "from ctypes import *"
   ]
  },
  {
   "cell_type": "markdown",
   "metadata": {},
   "source": [
    "# DJI Thermal SDK\n",
    "\n",
    "> use ctypes to capsulate the DJI Thermal SDK so that we can directly use python to process thermal images. "
   ]
  },
  {
   "cell_type": "markdown",
   "metadata": {},
   "source": [
    "This version of DJI Thermal SDK is 1.3, which was published on 05/15/2022"
   ]
  },
  {
   "cell_type": "markdown",
   "metadata": {},
   "source": [
    "## Install"
   ]
  },
  {
   "cell_type": "markdown",
   "metadata": {},
   "source": [
    "`pip install dji_thermal_sdk`"
   ]
  },
  {
   "cell_type": "markdown",
   "metadata": {},
   "source": [
    "## Load DLL"
   ]
  },
  {
   "cell_type": "markdown",
   "metadata": {},
   "source": [
    "Normally, DJI SDK DLLs include `libdirp.dll, libv_dirp.dll, libv_girp.dll, libv_iirp.dll, libv_list.ini`.  \n",
    "\n",
    "you should put all the dlls and your codes in a same folder."
   ]
  },
  {
   "cell_type": "code",
   "execution_count": null,
   "metadata": {},
   "outputs": [
    {
     "name": "stdout",
     "output_type": "stream",
     "text": [
      "<CDLL 'libdirp.dll', handle 7ffe6f310000 at 0x1aa05af9f40>\n"
     ]
    }
   ],
   "source": [
    "try:\n",
    "    _libdirp = cdll.LoadLibrary(\"libdirp.dll\")\n",
    "    DJI.set_dirp_dll(_libdirp)\n",
    "except FileNotFoundError as err:\n",
    "    print(err)\n",
    "#\n",
    "print(DJI._libdirp)"
   ]
  },
  {
   "cell_type": "markdown",
   "metadata": {},
   "source": [
    "## Get the handle of a R-JPEG image"
   ]
  },
  {
   "cell_type": "markdown",
   "metadata": {},
   "source": [
    "DIRP_HANDLE is a void pointer, and it has been definded.  \n",
    "you can get it by `package.DIRP_HANDLE`"
   ]
  },
  {
   "cell_type": "code",
   "execution_count": null,
   "metadata": {},
   "outputs": [
    {
     "data": {
      "text/markdown": [
       "<h4 id=\"dirp_create_from_rjpeg\" class=\"doc_header\"><code>dirp_create_from_rjpeg</code><a href=\"https://github.com/lyuhaitao/dji_thermal_sdk/tree/master/dji_thermal_sdk/dji_sdk.py#L162\" class=\"source_link\" style=\"float:right\">[source]</a></h4>\n",
       "\n",
       "> <code>dirp_create_from_rjpeg</code>(**`data`**, **`size`**, **`ph`**)\n",
       "\n",
       "Parameters:\n",
       "    [in] data: R-JPEG binary data buffer pointer\n",
       "    [in] size: R-JPEG binary data buffer size in bytes\n",
       "    [out]ph  : DIRP API handle pointer\n",
       "        - reminder: use two-level pointer to assign value to one-level pointer\n",
       "Return:\n",
       "    int return code dirp_ret_code_e"
      ],
      "text/plain": [
       "<IPython.core.display.Markdown object>"
      ]
     },
     "metadata": {},
     "output_type": "display_data"
    }
   ],
   "source": [
    "nbdev.show_doc(dirp_create_from_rjpeg)"
   ]
  },
  {
   "cell_type": "markdown",
   "metadata": {},
   "source": [
    "## Get the resolution of a R-JPEG image"
   ]
  },
  {
   "cell_type": "markdown",
   "metadata": {},
   "source": [
    "12"
   ]
  },
  {
   "cell_type": "code",
   "execution_count": null,
   "metadata": {},
   "outputs": [],
   "source": []
  }
 ],
 "metadata": {
  "kernelspec": {
   "display_name": "Python 3 (ipykernel)",
   "language": "python",
   "name": "python3"
  }
 },
 "nbformat": 4,
 "nbformat_minor": 2
}
