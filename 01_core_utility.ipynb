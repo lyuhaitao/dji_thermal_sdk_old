{
 "cells": [
  {
   "cell_type": "code",
   "execution_count": null,
   "id": "e08cd42c",
   "metadata": {},
   "outputs": [],
   "source": [
    "# default_exp utility"
   ]
  },
  {
   "cell_type": "markdown",
   "id": "4f94cfdc",
   "metadata": {},
   "source": [
    "# Utility\n",
    "\n",
    "> Self-defined classes and functions"
   ]
  },
  {
   "cell_type": "code",
   "execution_count": null,
   "id": "8059fe26",
   "metadata": {},
   "outputs": [],
   "source": [
    "#export\n",
    "import os"
   ]
  },
  {
   "cell_type": "code",
   "execution_count": null,
   "id": "bea29373",
   "metadata": {},
   "outputs": [],
   "source": [
    "#export\n",
    "class LhtFile:\n",
    "    '''\n",
    "    Self-defined class, which is used to record the file name and file path.\n",
    "    '''\n",
    "    def __init__(self,fileName, filePath):\n",
    "        self.file_name = fileName\n",
    "        self.file_path = filePath\n",
    "        "
   ]
  },
  {
   "cell_type": "code",
   "execution_count": null,
   "id": "df95e948",
   "metadata": {},
   "outputs": [],
   "source": [
    "#export\n",
    "def FindFilesByExtension(root_directory, extension):\n",
    "    '''\n",
    "    Filter all files based on the extention.\n",
    "    Parameters:\n",
    "        [in] root_directory: the path of a directory\n",
    "        [in] extension: file extension\n",
    "    Return:\n",
    "        ret: a list made of LhtFile objects.\n",
    "    '''\n",
    "    ret = []\n",
    "    for (root, dirs, files) in os.walk(root_directory, topdown=True):\n",
    "        for f in files:\n",
    "            if f.endswith(extension):\n",
    "                fileName = f\n",
    "                filePath = os.path.join(root,f)\n",
    "                lhtJson = LhtFile(fileName,filePath)\n",
    "                ret.append(lhtJson)\n",
    "    return ret"
   ]
  },
  {
   "cell_type": "code",
   "execution_count": null,
   "id": "35ad60ca",
   "metadata": {},
   "outputs": [
    {
     "name": "stdout",
     "output_type": "stream",
     "text": [
      "Converted 00_core_dji.ipynb.\n",
      "Converted 01_core_utility.ipynb.\n",
      "Converted index.ipynb.\n"
     ]
    }
   ],
   "source": [
    "# hide\n",
    "from nbdev.export import notebook2script\n",
    "notebook2script()"
   ]
  },
  {
   "cell_type": "code",
   "execution_count": null,
   "id": "3d888882",
   "metadata": {},
   "outputs": [],
   "source": []
  }
 ],
 "metadata": {
  "kernelspec": {
   "display_name": "Python 3 (ipykernel)",
   "language": "python",
   "name": "python3"
  }
 },
 "nbformat": 4,
 "nbformat_minor": 5
}
